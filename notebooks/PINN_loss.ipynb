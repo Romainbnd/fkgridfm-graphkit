{
 "cells": [
  {
   "cell_type": "markdown",
   "metadata": {},
   "source": [
    "### Check the active and reactive power loss in the data\n",
    "- Useful to compute active and reactive power loss of the solvers"
   ]
  },
  {
   "cell_type": "code",
   "execution_count": 1,
   "metadata": {},
   "outputs": [
    {
     "name": "stdout",
     "output_type": "stream",
     "text": [
      "Using device: cuda\n"
     ]
    }
   ],
   "source": [
    "import torch\n",
    "import pandas as pd\n",
    "from gridFM.datasets.powergrid import GridDatasetMem\n",
    "from gridFM.datasets.data_normalization import *\n",
    "from torch_geometric.loader import DataLoader\n",
    "from tqdm import tqdm\n",
    "from gridFM.utils.loss import *\n",
    "from gridFM.io.param_handler import *\n",
    "from gridFM.datasets.utils import split_dataset\n",
    "\n",
    "torch.set_printoptions(precision=10)\n",
    "device = torch.device(\"cuda\" if torch.cuda.is_available() else \"cpu\")\n",
    "print(f\"Using device: {device}\")"
   ]
  },
  {
   "cell_type": "code",
   "execution_count": 2,
   "metadata": {},
   "outputs": [],
   "source": [
    "data_path1 = r\"C:\\Users\\MatteoMazzonelli\\Desktop\\gridfm_model_evaluation\\scripts\\..\\data\\case300_ieee_dc\"\n",
    "scenarios = 512\n",
    "norm_method = \"baseMVAnorm\"\n",
    "node_normalizer, edge_normalizer = BaseMVANormalizer(True), BaseMVANormalizer(False) \n",
    "mask_ratio = 0.5\n",
    "mask_dim = 6\n",
    "mask_value = 0"
   ]
  },
  {
   "cell_type": "code",
   "execution_count": 3,
   "metadata": {},
   "outputs": [],
   "source": [
    "dataset = GridDatasetMem(\n",
    "        root=data_path1,\n",
    "        norm_method=norm_method,\n",
    "        node_normalizer=node_normalizer,\n",
    "        edge_normalizer=edge_normalizer,\n",
    "        mask_ratio=mask_ratio,\n",
    "        mask_dim=mask_dim,\n",
    "    )"
   ]
  },
  {
   "cell_type": "code",
   "execution_count": 4,
   "metadata": {},
   "outputs": [],
   "source": [
    "train_dataset, val_dataset, test_dataset = split_dataset(\n",
    "                dataset, data_path1, 0.1, 0.1\n",
    "            )"
   ]
  },
  {
   "cell_type": "code",
   "execution_count": 5,
   "metadata": {},
   "outputs": [],
   "source": [
    "loader = DataLoader(test_dataset, batch_size=16, shuffle=False)"
   ]
  },
  {
   "cell_type": "code",
   "execution_count": 6,
   "metadata": {},
   "outputs": [],
   "source": [
    "loss = PBELoss()"
   ]
  },
  {
   "cell_type": "code",
   "execution_count": 7,
   "metadata": {},
   "outputs": [
    {
     "name": "stderr",
     "output_type": "stream",
     "text": [
      "100%|██████████| 6/6 [00:03<00:00,  1.51it/s]\n"
     ]
    }
   ],
   "source": [
    "loss_sum = 0.0\n",
    "power_loss_sum = 0.0\n",
    "active_power_loss_sum = 0.0\n",
    "reactive_power_loss_sum = 0.0\n",
    "num_batches = 0\n",
    "\n",
    "# Loop through the batches\n",
    "for batch in tqdm(loader):\n",
    "    metric = loss(batch.y, batch.y, batch.edge_index, batch.edge_attr, batch.mask)\n",
    "    \n",
    "    # Accumulate the metrics\n",
    "    loss_sum += metric['loss'].item()\n",
    "    power_loss_sum += metric['Power power loss in p.u.']\n",
    "    active_power_loss_sum += metric['Active Power Loss in p.u.']\n",
    "    reactive_power_loss_sum += metric['Reactive Power Loss in p.u.']\n",
    "    num_batches += 1\n",
    "\n",
    "# Calculate the means\n",
    "mean_loss = loss_sum / num_batches\n",
    "mean_power_loss = power_loss_sum / num_batches\n",
    "mean_active_power_loss = active_power_loss_sum / num_batches\n",
    "mean_reactive_power_loss = reactive_power_loss_sum / num_batches\n",
    "\n",
    "# Print the results\n",
    "\n",
    "    "
   ]
  },
  {
   "cell_type": "code",
   "execution_count": 8,
   "metadata": {},
   "outputs": [
    {
     "name": "stdout",
     "output_type": "stream",
     "text": [
      "BaseMVA:  tensor(2465.)\n"
     ]
    }
   ],
   "source": [
    "print(\"BaseMVA: \", node_normalizer.baseMVA)"
   ]
  },
  {
   "cell_type": "code",
   "execution_count": 9,
   "metadata": {},
   "outputs": [
    {
     "name": "stdout",
     "output_type": "stream",
     "text": [
      "Mean Power Power Loss: 70.902587890625\n",
      "Mean Active Power Loss in MW: 6.602354049682617\n",
      "Mean Reactive Power Loss in MVar: 69.76075744628906\n"
     ]
    }
   ],
   "source": [
    "print(f\"Mean Power Power Loss: {mean_power_loss*node_normalizer.baseMVA}\")\n",
    "print(f\"Mean Active Power Loss in MW: {mean_active_power_loss*node_normalizer.baseMVA}\")\n",
    "print(f\"Mean Reactive Power Loss in MVar: {mean_reactive_power_loss*node_normalizer.baseMVA}\")"
   ]
  },
  {
   "cell_type": "code",
   "execution_count": null,
   "metadata": {},
   "outputs": [],
   "source": []
  }
 ],
 "metadata": {
  "kernelspec": {
   "display_name": "venv",
   "language": "python",
   "name": "python3"
  },
  "language_info": {
   "codemirror_mode": {
    "name": "ipython",
    "version": 3
   },
   "file_extension": ".py",
   "mimetype": "text/x-python",
   "name": "python",
   "nbconvert_exporter": "python",
   "pygments_lexer": "ipython3",
   "version": "3.12.6"
  }
 },
 "nbformat": 4,
 "nbformat_minor": 2
}
