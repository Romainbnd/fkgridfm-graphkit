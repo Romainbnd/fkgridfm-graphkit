{
 "cells": [
  {
   "cell_type": "code",
   "execution_count": 4,
   "metadata": {},
   "outputs": [
    {
     "name": "stdout",
     "output_type": "stream",
     "text": [
      "Using device: cuda\n"
     ]
    }
   ],
   "source": [
    "import torch\n",
    "import pandas as pd\n",
    "from gridFM.datasets.powergrid import GridDataset, GridDatasetMem\n",
    "from gridFM.datasets.data_normalization import *\n",
    "from torch_geometric.loader import DataLoader\n",
    "from torch_geometric.utils import to_dense_adj\n",
    "from torch_geometric.utils import to_torch_coo_tensor\n",
    "from torch.utils.data import ConcatDataset\n",
    "import torch.nn.functional as F\n",
    "from gridFM.models.graphTransformer import GraphTransformer\n",
    "from tqdm import tqdm\n",
    "\n",
    "torch.set_printoptions(precision=10)\n",
    "device = torch.device(\"cuda\" if torch.cuda.is_available() else \"cpu\")\n",
    "print(f\"Using device: {device}\")"
   ]
  },
  {
   "cell_type": "code",
   "execution_count": 5,
   "metadata": {},
   "outputs": [],
   "source": [
    "data_path1 = r\"C:\\Users\\MatteoMazzonelli\\Desktop\\gridfm_model_evaluation\\scripts\\..\\data\\case24\"\n",
    "scenarios = 500\n",
    "norm_method = \"identity\"\n",
    "node_normalizer, edge_normalizer = IdentityNormalizer(), IdentityNormalizer() \n",
    "mask_ratio = 0.5\n",
    "mask_dim = 6\n",
    "mask_value = -1"
   ]
  },
  {
   "cell_type": "code",
   "execution_count": 6,
   "metadata": {},
   "outputs": [
    {
     "name": "stderr",
     "output_type": "stream",
     "text": [
      "Processing...\n",
      "100%|██████████| 500/500 [00:00<00:00, 1089.95it/s]\n",
      "Done!\n"
     ]
    }
   ],
   "source": [
    "dataset = GridDatasetMem(\n",
    "        root=data_path1,\n",
    "        scenarios=scenarios,\n",
    "        norm_method=norm_method,\n",
    "        node_normalizer=node_normalizer,\n",
    "        edge_normalizer=edge_normalizer,\n",
    "        mask_ratio=mask_ratio,\n",
    "        mask_dim=mask_dim,\n",
    "        mask_value=mask_value,\n",
    "    )"
   ]
  },
  {
   "cell_type": "code",
   "execution_count": null,
   "metadata": {},
   "outputs": [],
   "source": []
  },
  {
   "cell_type": "code",
   "execution_count": 7,
   "metadata": {},
   "outputs": [],
   "source": [
    "train_loader = DataLoader(dataset, batch_size=16, shuffle=False)"
   ]
  },
  {
   "cell_type": "code",
   "execution_count": 8,
   "metadata": {},
   "outputs": [],
   "source": [
    "model = GraphTransformer(\n",
    "        input_dim=9,\n",
    "        hidden_dim=64,\n",
    "        output_dim=6,\n",
    "        edge_dim=2,\n",
    "        heads=4,\n",
    "        num_layers=3,\n",
    "    ).to(device)"
   ]
  },
  {
   "cell_type": "code",
   "execution_count": 9,
   "metadata": {},
   "outputs": [],
   "source": [
    "optimizer = torch.optim.Adam(model.parameters(), lr=1e-4)"
   ]
  },
  {
   "cell_type": "code",
   "execution_count": 11,
   "metadata": {},
   "outputs": [
    {
     "name": "stderr",
     "output_type": "stream",
     "text": [
      "  0%|          | 0/32 [00:00<?, ?it/s]"
     ]
    },
    {
     "name": "stdout",
     "output_type": "stream",
     "text": [
      "tensor([[ 58.0081176758,  22.0000000000,  62.4000167847,  12.2278327942,\n",
      "           0.9964036942,  -7.6618380547],\n",
      "        [ 52.0998840332,  20.0000000000,  62.4000167847,   3.9733238220,\n",
      "           0.9959319234,  -7.7468466759],\n",
      "        [ 96.6801986694,  37.0000000000,   0.0000000000,   0.0000000000,\n",
      "           0.9712955356,  -4.4175553322],\n",
      "        ...,\n",
      "        [  0.0000000000,   0.0000000000, 299.9999694824, -39.2295303345,\n",
      "           1.0499997139,  12.8255167007],\n",
      "        [  0.0000000000,   0.0000000000, 248.6000061035,  10.9866971970,\n",
      "           1.0386049747,   3.1463537216],\n",
      "        [  0.0000000000,   0.0000000000,   0.0000000000,   0.0000000000,\n",
      "           1.0240141153,   0.7312557101]], device='cuda:0')\n",
      "tensor([ 0.1060973555-9.7721673548e-02j,  0.6727567315-1.6283561289e-01j,\n",
      "         0.0303418469-3.7000000477e-01j,  0.0094240336-1.4999999106e-01j,\n",
      "        -0.3813496828-1.4000000060e-01j,  0.0363884382-2.8000000119e-01j,\n",
      "        -0.6669777036+4.7172316909e-01j,  0.0155730816-4.4186851010e-03j,\n",
      "         0.0554538891-8.5574239492e-03j,  0.0446777567-3.9977389574e-01j,\n",
      "         0.0722485036-1.2425422668e-02j,  0.0161929298+2.8984446079e-02j,\n",
      "         2.1136369705-5.3817135096e-01j, -1.0419976711-1.3582251035e-02j,\n",
      "         0.7424223423+4.1020039469e-02j,  0.0058879089+6.7626005411e-01j,\n",
      "         0.0783042312+0.0000000000e+00j,  0.7059756517+7.7371215448e-03j,\n",
      "        -0.9402611256-5.5684089661e-02j,  0.1916980147-2.5636640191e-01j,\n",
      "         2.2834496498+2.6611918584e-02j,  3.0497696400-4.2115938663e-01j,\n",
      "         2.4860002995+1.7855072021e-01j,  0.0294890758+1.7374331132e-02j,\n",
      "        -0.5523680449+1.3617682271e-02j,  0.0957363322-1.6434977949e-01j,\n",
      "         0.0359498225-3.7000000477e-01j, -0.3915475011-1.2930706143e-01j,\n",
      "        -0.3550830781-1.4000000060e-01j, -0.7134306431-2.8000000119e-01j,\n",
      "        -0.6450132728-1.7653572140e-03j, -0.8781740665-3.4999999404e-01j,\n",
      "         0.0403227732-5.4144309834e-03j,  0.0604504012-1.8351631239e-02j,\n",
      "         0.0786804408+0.0000000000e+00j,  0.0000000000-1.5878012404e-02j,\n",
      "         2.1142637730-5.4261082411e-01j, -0.0054188245+3.2134711742e-01j,\n",
      "         0.7501886487-8.1101343036e-02j, -0.5586626530+5.9916090965e-01j,\n",
      "         0.1425156742-6.4807072282e-02j, -1.7084317207+5.3962910175e-01j,\n",
      "         0.1064955592-5.4267868400e-02j,  0.1168221384-2.1147972345e-01j,\n",
      "         0.1517908424+2.7780801058e-02j,  0.0048363018-3.9089170098e-01j,\n",
      "         0.0220612232+2.5233921409e-01j,  0.0430835634-7.7902432531e-04j,\n",
      "         0.0611859486-2.7941077948e-02j,  0.1291010380-2.4999406189e-02j,\n",
      "        -0.9380237460-3.7000000477e-01j, -0.3865744770-1.4999999106e-01j,\n",
      "         0.0349602923+1.5061963350e-02j,  0.0248286761-1.7089104513e-03j,\n",
      "         0.0985946655+2.2526893020e-01j,  0.0096170325-3.4882920980e-01j,\n",
      "        -0.8902700543-3.5999998450e-01j,  0.0616479516-3.6479026079e-01j,\n",
      "         0.0845171735+2.4102631956e-02j,  0.0599602871+2.1204296499e-02j,\n",
      "         0.0437857434-5.3306527436e-02j,  0.0703905448+6.7257958651e-01j,\n",
      "         0.7471970916-8.1595763564e-02j,  0.0218758378-9.4950415194e-02j,\n",
      "         0.1229618266+3.5889227875e-03j,  0.1664178967+2.6595324278e-02j,\n",
      "         0.0605201982-4.4991392642e-02j, -0.6670390964-6.4982056618e-02j,\n",
      "         2.1515142918+3.9323057979e-02j,  0.0297394320-4.9320887774e-03j,\n",
      "         2.4860002995+2.5951292366e-02j,  0.0000000000+0.0000000000e+00j,\n",
      "        -0.5015054345-1.2026163191e-01j, -0.4886620343-5.0240326673e-03j,\n",
      "        -0.9236346483-1.4707620256e-02j, -0.3537557125-1.4999999106e-01j,\n",
      "        -0.3643225431-1.2811383605e-01j,  0.0150964828-1.6042603180e-02j,\n",
      "        -0.6306746006-2.5614041369e-03j,  0.0236734841-2.6126261801e-02j,\n",
      "         0.0545427315-3.4095123410e-01j, -0.9873368740-3.9999997616e-01j,\n",
      "         0.0693244934+0.0000000000e+00j,  0.0312721208-3.5739302635e-02j,\n",
      "        -1.3486776352-5.5437964201e-01j,  0.0466110259+2.3946307600e-01j,\n",
      "         0.7432311177-8.1476479769e-02j,  0.1957786530+5.9775817394e-01j,\n",
      "         0.1431047916+3.5787966102e-02j,  0.4288792312-6.3717365265e-01j,\n",
      "        -0.9287659526-6.9746047258e-02j,  0.1878358424+4.6131074429e-02j,\n",
      "         0.2077098489+8.0467224121e-02j,  0.0033897758-4.0794461966e-01j,\n",
      "         0.1387091726+6.2967300415e-02j,  0.0000000000+0.0000000000e+00j,\n",
      "         0.1052614748-2.0788288116e-01j,  0.1340178698-1.5920653939e-01j,\n",
      "         0.0306099784-3.6930677295e-01j, -0.3476380706-1.1721685529e-02j,\n",
      "        -0.3508037925-1.3615004718e-01j, -0.6756308079-2.5213636458e-02j,\n",
      "         0.0180151816+2.7226901148e-03j, -0.8637832403-1.4001197182e-02j,\n",
      "        -0.8710045218-4.0645380504e-03j, -0.9850159287-3.9999997616e-01j,\n",
      "         0.0000000000+0.0000000000e+00j,  0.0366666615+0.0000000000e+00j,\n",
      "         2.1137340069+1.8668185920e-02j, -0.9799645543+5.6348097324e-01j,\n",
      "        -0.9382821321-8.1538885832e-02j,  0.0378636941-1.2201154232e-01j,\n",
      "         0.0000000000+5.5209286511e-02j, -1.6266187429-6.3028669357e-01j,\n",
      "         0.0816051364+5.4599139839e-03j,  0.1675325185-2.5999999046e-01j,\n",
      "         0.1517998874+5.5370096117e-02j,  2.9999988079-4.0165832639e-01j,\n",
      "         2.4860002995+3.2261285931e-02j, -0.0212662630+1.7543548718e-02j,\n",
      "         0.7164003849-5.2874635905e-02j, -0.4478111267-1.6897794604e-01j,\n",
      "         0.0183598995-1.1150387116e-02j, -0.3693475127-1.4999999106e-01j,\n",
      "        -0.3461645544-2.9416674748e-02j, -0.6544132829-2.8000000119e-01j,\n",
      "         0.0319945887+2.1388164163e-01j, -0.8534922600-3.3517429233e-01j,\n",
      "         0.0591107458-4.0067579597e-02j, -0.9732806087-2.6416782290e-02j,\n",
      "         0.0695663169-3.5811532289e-02j,  0.0331998020+0.0000000000e+00j,\n",
      "         0.0759159550-5.3012847900e-01j,  0.0466648154+1.7406390607e-01j,\n",
      "         0.7677786946+4.9480804801e-01j,  0.1675118655+1.4661049470e-02j,\n",
      "         0.0602648817+0.0000000000e+00j,  2.0515563488+6.3373512030e-01j,\n",
      "        -0.9034040570-5.7013318874e-03j, -0.6388714314-2.1232584119e-01j,\n",
      "         1.7180336714+4.0277317166e-02j,  0.0389501527-4.2401558161e-01j,\n",
      "         2.4860000610+1.0432966053e-01j,  0.0424273573+8.8599985465e-03j,\n",
      "        -0.5154309869+5.4083680734e-03j,  0.1244222522-5.3422067314e-02j,\n",
      "        -0.8776008487-2.8046011925e-02j,  0.0135699697-1.4080479741e-01j,\n",
      "        -0.3423129916-1.2222753465e-01j,  0.0238742754-2.7015274763e-01j,\n",
      "         0.0326360613+2.1101222932e-01j,  0.0279456582-3.6843942944e-03j,\n",
      "        -0.8486816883-3.1430695206e-02j, -0.9615895152-1.5466117766e-03j,\n",
      "         0.0216664635-3.0945383012e-02j,  0.0225599092+0.0000000000e+00j,\n",
      "        -1.2991011143-1.8647646531e-02j,  0.0653201267+1.4852443337e-01j,\n",
      "        -1.5164523125-5.8773988485e-01j,  0.6801963449+5.8809995651e-01j,\n",
      "         0.1225609109-4.9783356488e-02j, -1.6183164120+5.5875390768e-01j,\n",
      "        -0.8709380627-3.7000000477e-01j,  0.1857558638+2.5538492482e-03j,\n",
      "         0.0534717776+6.1029274017e-02j,  2.9999992847+2.4592287838e-02j,\n",
      "         2.4860000610+1.5065492690e-01j,  0.0418431312-5.4579705466e-04j,\n",
      "         0.0960738063-1.9337791950e-02j,  0.0922994018-1.6690906882e-01j,\n",
      "         0.0292216055-1.6190284863e-02j, -0.3604742289-1.6957091168e-02j,\n",
      "         0.0316535234-1.4000000060e-01j,  0.0228297282-1.1622088030e-02j,\n",
      "         0.1410908848-2.3838159442e-01j,  0.0189666599-1.5257603489e-02j,\n",
      "        -0.8400808573-3.5103306174e-01j,  0.0598311946-2.8847733513e-02j,\n",
      "         0.0000000000-1.3754336163e-02j,  0.0000000000-2.7477959171e-02j,\n",
      "         2.1226804256-1.4814214781e-02j,  0.0633536726-2.8196119238e-03j,\n",
      "         0.1218087152-8.2985267043e-02j,  0.6925289035-1.2163735926e-01j,\n",
      "         0.1668768227+0.0000000000e+00j,  0.1302004904-4.6908013523e-02j,\n",
      "         0.1311598420-3.7000000477e-01j, -0.6235229969-2.0469932258e-01j,\n",
      "         0.1822375506-5.8197043836e-02j,  2.9999980927-6.6053080373e-03j,\n",
      "         0.1327200085+5.0852820277e-02j,  0.0000000000+0.0000000000e+00j,\n",
      "        -0.4765478671-1.4635531604e-01j,  0.0898658335-1.8522067368e-01j,\n",
      "        -0.8720093369-3.5992930643e-03j,  0.0205222778-1.3913026452e-01j,\n",
      "         0.0132732224-1.5456391871e-01j,  0.0222174022-2.5459530298e-03j,\n",
      "         0.7805119157+2.0551200211e-01j,  0.0338607319-3.3504402637e-01j,\n",
      "         0.0383821279-4.5531829819e-03j,  0.0543594211-2.9606489465e-02j,\n",
      "         0.0475317426+0.0000000000e+00j,  0.0358711518+3.0844066292e-02j,\n",
      "         2.1203474998-5.8173966408e-01j, -0.9333959222-1.5827957541e-02j,\n",
      "        -1.5146533251-8.0350719392e-02j,  0.6514200568+7.4226313829e-01j,\n",
      "         0.1367439479-6.2621258199e-02j, -1.5779780149+5.5715847015e-01j,\n",
      "        -0.8708487749+8.5776895285e-03j,  0.1170492247+2.2587589920e-02j,\n",
      "         0.1644400060+6.1034388840e-02j,  2.9999995232-2.5725841522e-02j,\n",
      "         2.4860000610+7.3626957834e-02j,  0.0213913675+1.7821336165e-02j,\n",
      "        -0.4712767601-1.9200296700e-01j, -0.4234195948-1.8603521585e-01j,\n",
      "        -0.8622770309-1.5906350687e-02j,  0.0123388385-2.2680513561e-02j,\n",
      "        -0.3115400672-1.3111920655e-01j,  0.0174347516-2.7223369479e-01j,\n",
      "        -0.5870844722+9.0444730595e-03j, -0.8060562015-2.0685955882e-02j,\n",
      "         0.0597424731-3.5962760448e-02j, -0.9341334105-8.1559550017e-03j,\n",
      "         0.0000000000-6.0140259564e-02j,  0.0180950351+0.0000000000e+00j,\n",
      "         0.8005383611-1.2054316700e-02j,  0.0779487863-3.6349323392e-01j,\n",
      "         0.7410851121-8.0323792994e-02j,  0.6631954908+6.9026887417e-01j,\n",
      "         0.1318663806+6.2517978251e-02j,  1.7520672083+6.2311458588e-01j,\n",
      "        -0.8365018368-6.0959752649e-02j,  0.1099057943+4.2640395463e-02j,\n",
      "         0.0706325099+1.1323586851e-01j,  3.0367140770-8.7932534516e-03j,\n",
      "         0.0633123443+1.1897408962e-01j,  0.0319984145+5.9232036583e-03j,\n",
      "         0.0907071456+1.7299221829e-02j,  0.1491406411-7.9285711050e-02j,\n",
      "        -0.8375343084-3.5913902521e-01j, -0.3497612774-1.4548070729e-01j,\n",
      "        -0.3270665407-1.9593410194e-02j, -0.6472824216-6.4685307443e-03j,\n",
      "        -0.5727490783+4.4721019268e-01j, -0.8157457709-3.4238693118e-01j,\n",
      "        -0.8251469135-2.1498151124e-02j, -0.9183093309-2.0718551241e-03j,\n",
      "         0.0698451474-6.4826481044e-02j,  0.0233698171+3.1409875955e-03j,\n",
      "        -1.2359086275-5.8560270071e-01j, -0.8810101748-1.4357356355e-02j,\n",
      "        -1.4014905691-3.6735393107e-02j, -0.3930517137-3.6906700581e-02j,\n",
      "         0.0000000000-5.5705022067e-02j,  0.0152043151+5.5444836617e-01j,\n",
      "         0.1275367439-3.8833621144e-01j, -0.6106166840-2.0289690793e-01j,\n",
      "         0.1980264485+1.1890796572e-01j,  3.0289537907-3.9309850335e-01j,\n",
      "         2.6245620251-2.4259831756e-02j,  0.0436973572-2.2483615205e-02j,\n",
      "         0.1109505072-1.8003512919e-01j,  0.1632055640-1.6107819974e-01j,\n",
      "         0.0253691170-3.7000000477e-01j, -0.3353326023-1.4999999106e-01j,\n",
      "         0.0354917794-1.4000000060e-01j,  0.0261435602-2.6024270058e-01j,\n",
      "        -0.5819709897-2.3815029860e-01j,  0.0277531222-3.3576828241e-01j,\n",
      "         0.0439926237-3.4006178379e-01j, -0.8941916227-3.9999997616e-01j,\n",
      "         0.0446661077-4.2287390679e-02j,  0.0000000000+0.0000000000e+00j,\n",
      "         2.1103489399-5.8751904964e-01j,  0.0534035303-3.6697471142e-01j,\n",
      "         0.7413756251-5.5707037449e-01j,  0.1866897941-2.0596356690e-01j,\n",
      "         0.0847096592+0.0000000000e+00j,  1.6693758965-6.2472730875e-01j,\n",
      "        -0.8332521915-3.7000000477e-01j,  0.1709416509+5.1522247493e-02j,\n",
      "         1.4494472742-9.6317762509e-03j,  2.9999995232+7.3928950587e-04j,\n",
      "         0.1197032779+1.1269249022e-01j,  0.0279837847-1.2344741262e-02j,\n",
      "         0.7094578147-5.5038519204e-02j,  0.7068191171-6.7372910678e-02j,\n",
      "         0.0115014995-1.5883469954e-02j,  0.0114221843-2.4286168627e-03j,\n",
      "         0.0257954523-1.3391283154e-01j, -0.6433444023-2.8000000119e-01j,\n",
      "         0.7583721280+4.4554144144e-01j, -0.8089109659-5.7588061318e-03j,\n",
      "         0.0392667577-3.1020283699e-02j,  0.0651341677-3.9999997616e-01j,\n",
      "         0.0399376377-3.4336514771e-02j,  0.0181430671+0.0000000000e+00j,\n",
      "         2.1120986938-5.3440773487e-01j,  0.0607505292-3.8822602946e-03j,\n",
      "         0.1386142522+2.5313830003e-02j,  0.6886669993-8.0560222268e-02j,\n",
      "         0.1497820467+0.0000000000e+00j, -0.0304168686+5.6417673826e-01j,\n",
      "         0.0567165986-3.7000000477e-01j, -0.6055005789-2.5999999046e-01j,\n",
      "         1.4504727125+4.1368421167e-02j,  2.9999995232-4.1169527173e-01j,\n",
      "         2.4860000610+2.0004881546e-02j,  0.0000000000+0.0000000000e+00j,\n",
      "         0.7125779390-5.6502342224e-02j,  0.7089679837-4.8133730888e-02j,\n",
      "        -0.8513628840-3.7000000477e-01j, -0.3466307521-1.8961403519e-02j,\n",
      "         0.0156490989-2.4047570303e-02j, -0.6432519555-1.5318782069e-02j,\n",
      "        -0.5896715522-6.7635462619e-03j,  0.0217090268+1.9781407900e-03j,\n",
      "         0.0428519286-1.3154933229e-02j, -0.9223097563-3.7604552507e-01j,\n",
      "         0.0469177030+3.5338107497e-02j,  0.0000000000-8.9891124517e-03j,\n",
      "         2.1079137325-5.3589862585e-01j,  0.0831078514-3.8957419991e-01j,\n",
      "         0.0770804882-8.0412827432e-02j,  0.0700206384-9.5528736711e-02j,\n",
      "         0.1581608206+4.2052183300e-02j, -0.0311918631+5.6461364031e-01j,\n",
      "         0.1174816117-3.7000000477e-01j, -0.5461504459-1.1225926131e-01j,\n",
      "         1.3321212530+5.2167136222e-02j,  0.0200583171-4.2095622420e-01j,\n",
      "         2.6510088444-2.3662073538e-02j,  0.0431771167+1.7317438032e-03j,\n",
      "         0.1290953606+1.1836137623e-02j,  0.1652099937-7.3021858931e-02j,\n",
      "         0.0132890083-3.5704320669e-01j,  0.0078869388+1.9249188481e-03j,\n",
      "        -0.3385515213+1.2925880961e-02j,  0.0279043149-2.8000000119e-01j,\n",
      "        -0.5828385353-3.0902570579e-03j,  0.0257834997-3.4999999404e-01j,\n",
      "        -0.8190215826-3.5999998450e-01j,  0.0674792454-3.8262414932e-01j,\n",
      "         0.0800253823-8.5830045864e-03j,  0.0177040379+2.1374305710e-02j,\n",
      "         2.1192393303-5.8947426081e-01j, -0.9175800085-3.6341407895e-01j,\n",
      "         0.7419993281-6.0728073120e-01j,  0.2119963765+5.5113029480e-01j,\n",
      "         0.0000000000+4.7112677246e-02j,  1.6467505693-2.3546675220e-02j,\n",
      "        -0.8236491680-3.7000000477e-01j, -0.5229603052-1.1450877041e-01j,\n",
      "         0.0637826696+1.3194870949e-01j,  2.9999995232-3.9229530096e-01j,\n",
      "         2.6488585472-2.7263313532e-02j,  0.0270793997-2.0485540852e-02j,\n",
      "         0.1131822541-3.7419289351e-02j, -0.3987187743-1.8330141902e-01j,\n",
      "         0.0339033119-3.6433050036e-01j, -0.3327694535-1.2467060983e-01j,\n",
      "         0.0216195993-5.6906510144e-03j, -0.6432519555-2.8000000119e-01j,\n",
      "         0.0259701312+2.0201563835e-01j,  0.0256442633-3.3896967769e-01j,\n",
      "        -0.8277139068+9.1092027724e-03j, -0.9016207457-3.9999997616e-01j,\n",
      "         0.0751526952-8.7613863871e-03j,  0.0000000000-2.0074164495e-02j,\n",
      "         2.1249358654-5.2519226074e-01j, -0.9175800085+4.3897959590e-01j,\n",
      "        -1.4800779819-8.0412827432e-02j, -0.3983944356-1.3526190817e-01j,\n",
      "         0.1503634006+0.0000000000e+00j, -0.0311918631-4.8183493316e-02j,\n",
      "        -0.8560926914-3.3314761519e-01j,  0.1590858102-2.5999999046e-01j,\n",
      "         0.1954233497-8.3245756105e-03j,  0.0360643864-3.5407532007e-02j,\n",
      "         2.4860000610+4.5435674489e-02j,  0.0000000000-2.3326843511e-03j],\n",
      "       device='cuda:0', grad_fn=<DivBackward0>)\n"
     ]
    },
    {
     "name": "stderr",
     "output_type": "stream",
     "text": [
      "\n"
     ]
    },
    {
     "ename": "NotImplementedError",
     "evalue": "",
     "output_type": "error",
     "traceback": [
      "\u001b[1;31m---------------------------------------------------------------------------\u001b[0m",
      "\u001b[1;31mNotImplementedError\u001b[0m                       Traceback (most recent call last)",
      "Cell \u001b[1;32mIn[11], line 52\u001b[0m\n\u001b[0;32m     49\u001b[0m S_net_power_balance \u001b[38;5;241m=\u001b[39m S_net_power_balance \u001b[38;5;241m/\u001b[39m \u001b[38;5;241m100.0\u001b[39m\n\u001b[0;32m     51\u001b[0m \u001b[38;5;28mprint\u001b[39m(S_net_power_balance)\n\u001b[1;32m---> 52\u001b[0m \u001b[38;5;28;01mraise\u001b[39;00m \u001b[38;5;167;01mNotImplementedError\u001b[39;00m\n\u001b[0;32m     56\u001b[0m loss_power \u001b[38;5;241m=\u001b[39m torch\u001b[38;5;241m.\u001b[39msum(torch\u001b[38;5;241m.\u001b[39mabs(S_net_power_balance \u001b[38;5;241m-\u001b[39m S_injection))  \u001b[38;5;66;03m# Example: Sum of absolute errors as loss\u001b[39;00m\n\u001b[0;32m     58\u001b[0m loss \u001b[38;5;241m=\u001b[39m loss_RMSE \u001b[38;5;241m+\u001b[39m \u001b[38;5;241m0.0001\u001b[39m\u001b[38;5;241m*\u001b[39mloss_power\n",
      "\u001b[1;31mNotImplementedError\u001b[0m: "
     ]
    }
   ],
   "source": [
    "for batch in tqdm(train_loader):\n",
    "    batch = batch.to(device)\n",
    "    output = model(batch.x, batch.edge_index, batch.edge_attr)\n",
    "\n",
    "    mask = batch.mask \n",
    "    output_masked = output[mask]  # Predictions for masked values\n",
    "    y_masked = batch.y[mask] \n",
    "    loss_RMSE = torch.sqrt(F.mse_loss(output_masked, y_masked, reduction='mean'))\n",
    "    print(batch.y)\n",
    "\n",
    "    unmasked = (batch.mask == False)  # Modify this according to your mask logic \n",
    "\n",
    "    # Apply the unmasked values (keep only the unmasked ones from batch.y)\n",
    "    output[unmasked] = batch.y[unmasked]\n",
    "\n",
    "    V_m = output[:, 4]  # Voltage magnitudes\n",
    "    V_a = output[:, 5]  # Voltage angles in degrees\n",
    "\n",
    "    # Convert angles to radians\n",
    "    V_A_rad = V_a * (torch.pi / 180)\n",
    "\n",
    "    # Compute the complex voltage vector V\n",
    "    V = V_m * torch.exp(1j * V_A_rad)\n",
    "\n",
    "    # Compute the conjugate of V\n",
    "    V_conj = torch.conj(V)\n",
    "\n",
    "    # Reconstruct the admittance matrix (Y_bus) as a dense matrix\n",
    "    # Note: Edge attributes represent the admittance values\n",
    "    edge_real = batch.edge_attr[:, 0]  # Real part of Y_bus\n",
    "    edge_imag = batch.edge_attr[:, 1]  # Imaginary part of Y_bus\n",
    "\n",
    "    # Construct the sparse admittance matrix (real and imaginary parts separately)\n",
    "    Y_bus_real_sparse = to_torch_coo_tensor(batch.edge_index, edge_real, size=(batch.y.size(0), batch.y.size(0)))\n",
    "    Y_bus_imag_sparse = to_torch_coo_tensor(batch.edge_index, edge_imag, size=(batch.y.size(0), batch.y.size(0)))\n",
    "\n",
    "    # Combine real and imaginary parts to create a complex sparse matrix\n",
    "    Y_bus_sparse = Y_bus_real_sparse + 1j * Y_bus_imag_sparse\n",
    "\n",
    "\n",
    "    # Take the conjugate of the admittance matrix\n",
    "    Y_bus_conj = torch.conj(Y_bus_sparse)\n",
    "    # Compute the complex power injection S_injection\n",
    "    S_injection = torch.diag(V) @ Y_bus_conj @ V_conj\n",
    "\n",
    "    net_P = output[:, 2] - output[:, 0]\n",
    "    net_Q = output[:, 3] - output[:, 1]\n",
    "    S_net_power_balance = net_P + 1j*net_Q\n",
    "    S_net_power_balance = S_net_power_balance / 100.0\n",
    "\n",
    "    print(S_net_power_balance)\n",
    "    raise NotImplementedError\n",
    "\n",
    "    \n",
    "\n",
    "    loss_power = torch.sum(torch.abs(S_net_power_balance - S_injection))  # Example: Sum of absolute errors as loss\n",
    "\n",
    "    loss = loss_RMSE + 0.0001*loss_power\n",
    "\n",
    "    print(f\"Loss: {loss.item()}\")\n",
    "\n",
    "    # Backpropagation\n",
    "    optimizer.zero_grad()  # Zero the gradients from previous steps\n",
    "    loss.backward()  # Compute the gradients based on the loss\n",
    "    optimizer.step()  # Update the model parameters using the optimizer"
   ]
  },
  {
   "cell_type": "code",
   "execution_count": null,
   "metadata": {},
   "outputs": [],
   "source": [
    "\n",
    "\n",
    "# Assuming batch.x has V_M (col 0) and V_A (col 1) in degrees\n",
    "V_M = batch.x[:, 0]  # Voltage magnitudes\n",
    "V_A = batch.x[:, 1]  # Voltage angles in degrees\n",
    "\n",
    "# Convert angles to radians\n",
    "V_A_rad = V_A * (torch.pi / 180)\n",
    "\n",
    "# Compute the complex voltage vector V\n",
    "V = V_M * torch.exp(1j * V_A_rad)\n",
    "\n",
    "# Compute the conjugate of V\n",
    "V_conj = torch.conj(V)\n",
    "\n",
    "# Reconstruct the admittance matrix (Y_bus) as a dense matrix\n",
    "# Note: Edge attributes represent the admittance values\n",
    "Y_bus_dense = to_dense_adj(batch.edge_index, edge_attr=batch.edge_attr, batch=batch.batch)\n",
    "\n",
    "# Take the conjugate of the admittance matrix\n",
    "Y_bus_conj = torch.conj(Y_bus_dense)\n",
    "\n",
    "# Compute the complex power injection S_injection\n",
    "# S_injection = diag(V) @ conj(Y_bus) @ conj(V)\n",
    "S_injection = torch.einsum('bi,bij,bj->b', V, Y_bus_conj, V_conj)\n"
   ]
  },
  {
   "cell_type": "code",
   "execution_count": null,
   "metadata": {},
   "outputs": [],
   "source": [
    "\n",
    "\n",
    "# Load CSV into a DataFrame\n",
    "df_node = pd.read_csv(file_path_node)\n",
    "df_edge = pd.read_csv(file_path_edge)\n",
    "\n",
    "# Filter for scenario 0\n",
    "df_scenario_0 = df_node[df_node['scenario'] == 0.0]\n",
    "\n",
    "df_scenario_0 = df_scenario_0.drop(columns=['scenario','bus'])\n",
    "# Convert to PyTorch tensor\n",
    "tensor_data = torch.tensor(df_scenario_0.values)"
   ]
  },
  {
   "cell_type": "code",
   "execution_count": null,
   "metadata": {},
   "outputs": [],
   "source": []
  },
  {
   "cell_type": "code",
   "execution_count": null,
   "metadata": {},
   "outputs": [],
   "source": [
    "# Get the number of buses (assuming indices are 0-based)\n",
    "num_buses = int(max(df_edge['index1'].max(), df_edge['index2'].max())) + 1\n",
    "\n",
    "# Initialize a complex matrix with zeros\n",
    "adj_matrix = torch.zeros((num_buses, num_buses), dtype=torch.cdouble)\n",
    "\n",
    "# Fill the matrix with complex values G + jB\n",
    "for _, row in df_edge.iterrows():\n",
    "    i, j, G, B = int(row['index1']), int(row['index2']), row['G'], row['B']\n",
    "    adj_matrix[i, j] = complex(G, B)\n"
   ]
  },
  {
   "cell_type": "code",
   "execution_count": null,
   "metadata": {},
   "outputs": [],
   "source": [
    "V_M = tensor_data[:, 4]  # Fourth column\n",
    "V_A = tensor_data[:, 5]  # Fifth column in degrees\n",
    "\n",
    "# Convert VA to radians\n",
    "V_A_rad = V_A * (torch.pi / 180)\n",
    "\n",
    "# Compute complex voltage vector V\n",
    "V = V_M * torch.exp(1j * V_A_rad)\n",
    "\n",
    "# Compute conjugates\n",
    "V_conj = torch.conj(V)\n",
    "Y_bus_conj = torch.conj(adj_matrix)\n",
    "\n",
    "# Compute complex power injection: S_injection = diag(V) @ conj(Y_bus) @ conj(V)\n",
    "S_injection = torch.diag(V) @ Y_bus_conj @ V_conj"
   ]
  },
  {
   "cell_type": "code",
   "execution_count": null,
   "metadata": {},
   "outputs": [],
   "source": [
    "net_P = tensor_data[:, 2] - tensor_data[:, 0]\n",
    "net_Q = tensor_data[:, 3] - tensor_data[:, 1]\n",
    "S_net_power_balance = net_P + 1j*net_Q\n",
    "S_net_power_balance = S_net_power_balance / 100.0"
   ]
  },
  {
   "cell_type": "code",
   "execution_count": null,
   "metadata": {},
   "outputs": [
    {
     "data": {
      "text/plain": [
       "tensor(-0.7304725920-1.2791672130j, dtype=torch.complex128)"
      ]
     },
     "execution_count": 31,
     "metadata": {},
     "output_type": "execute_result"
    }
   ],
   "source": [
    "S_net_power_balance[5]"
   ]
  },
  {
   "cell_type": "code",
   "execution_count": null,
   "metadata": {},
   "outputs": [
    {
     "data": {
      "text/plain": [
       "tensor(-0.7304725917-0.2799999999j, dtype=torch.complex128)"
      ]
     },
     "execution_count": 32,
     "metadata": {},
     "output_type": "execute_result"
    }
   ],
   "source": [
    "S_injection[5]"
   ]
  },
  {
   "cell_type": "code",
   "execution_count": null,
   "metadata": {},
   "outputs": [
    {
     "data": {
      "text/plain": [
       "tensor([-6.7660369668e-10-1.7388868123e-14j,\n",
       "        -4.1089263936e-10-6.8278716014e-15j,\n",
       "        -8.9678708903e-10-2.6741585613e-09j,\n",
       "        -1.2113158254e-09-1.0081052382e-09j,\n",
       "        -3.3743563499e-10-1.7792467499e-10j,\n",
       "        -3.1047497906e-10-9.9916721314e-01j,\n",
       "        -2.0325755246e-09-6.9388939039e-16j,\n",
       "        -4.2383974108e-09-5.5446593428e-09j,\n",
       "         1.7288764864e-09-4.0299094062e-09j,\n",
       "         9.8632679801e-10-1.7707414424e-09j,\n",
       "         1.3437029267e-09-5.0762949400e-10j,\n",
       "         1.4883418942e-09-5.3685234036e-10j,\n",
       "         0.0000000000e+00-5.5511151231e-16j,\n",
       "        -2.8516078387e-11+1.0547118734e-14j,\n",
       "         4.8730131041e-11+7.1193051454e-14j,\n",
       "        -5.4651422277e-13-4.1522341121e-14j,\n",
       "        -3.2462921240e-13-2.7142732506e-12j,\n",
       "        -4.8649972939e-13-2.3731884513e-14j,\n",
       "        -1.7629231408e-12-1.0021206087e-11j,\n",
       "        -7.1886940844e-13-7.3419048618e-12j,\n",
       "        -7.1054273576e-15+2.0317081351e-14j,\n",
       "        -4.4853010195e-14+5.1070259133e-15j,\n",
       "         2.4655388842e-11+2.2759572005e-15j,\n",
       "         8.3885964841e-10-3.8987479911e-11j], dtype=torch.complex128)"
      ]
     },
     "execution_count": 30,
     "metadata": {},
     "output_type": "execute_result"
    }
   ],
   "source": [
    "S_net_power_balance - S_injection"
   ]
  },
  {
   "cell_type": "code",
   "execution_count": null,
   "metadata": {},
   "outputs": [],
   "source": []
  }
 ],
 "metadata": {
  "kernelspec": {
   "display_name": "venv",
   "language": "python",
   "name": "python3"
  },
  "language_info": {
   "codemirror_mode": {
    "name": "ipython",
    "version": 3
   },
   "file_extension": ".py",
   "mimetype": "text/x-python",
   "name": "python",
   "nbconvert_exporter": "python",
   "pygments_lexer": "ipython3",
   "version": "3.12.6"
  }
 },
 "nbformat": 4,
 "nbformat_minor": 2
}
