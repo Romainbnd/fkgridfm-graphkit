{
 "cells": [
  {
   "cell_type": "markdown",
   "metadata": {},
   "source": [
    "## Check the ground truth active and reactive residuals in the data\n",
    "- Useful to compute active and reactive residuals of the solvers"
   ]
  },
  {
   "cell_type": "code",
   "execution_count": null,
   "metadata": {},
   "outputs": [],
   "source": [
    "from gridFM.datasets.powergrid import GridDatasetMem\n",
    "from gridFM.datasets.data_normalization import BaseMVANormalizer\n",
    "from gridFM.utils.loss import PBELoss\n",
    "from gridFM.datasets.transforms import AddRandomMask\n",
    "\n",
    "import torch\n",
    "from torch_geometric.loader import DataLoader\n",
    "from tqdm import tqdm\n",
    "import os\n",
    "\n",
    "\n",
    "torch.set_printoptions(precision=10)\n",
    "device = torch.device(\"cuda\" if torch.cuda.is_available() else \"cpu\")\n",
    "print(f\"Using device: {device}\")"
   ]
  },
  {
   "cell_type": "code",
   "execution_count": null,
   "metadata": {},
   "outputs": [],
   "source": [
    "base_path = os.path.join(os.getcwd(), \"../data/\")\n",
    "network = \"case30_ieee_ac\""
   ]
  },
  {
   "cell_type": "code",
   "execution_count": null,
   "metadata": {},
   "outputs": [],
   "source": [
    "data_path = os.path.join(base_path, network)\n",
    "scenarios = 512\n",
    "norm_method = \"baseMVAnorm\"\n",
    "node_normalizer, edge_normalizer = (\n",
    "    BaseMVANormalizer(node_data=True),\n",
    "    BaseMVANormalizer(node_data=False),\n",
    ")\n",
    "mask_ratio = 0.5\n",
    "mask_dim = 6\n",
    "mask_value = 0\n",
    "pe_dim = 20"
   ]
  },
  {
   "cell_type": "code",
   "execution_count": null,
   "metadata": {},
   "outputs": [],
   "source": [
    "dataset = GridDatasetMem(\n",
    "    root=data_path,\n",
    "    norm_method=norm_method,\n",
    "    node_normalizer=node_normalizer,\n",
    "    edge_normalizer=edge_normalizer,\n",
    "    pe_dim=pe_dim,\n",
    "    mask_dim=mask_dim,\n",
    "    transform=AddRandomMask(mask_dim=mask_dim, mask_ratio=mask_ratio),\n",
    ")"
   ]
  },
  {
   "cell_type": "code",
   "execution_count": null,
   "metadata": {},
   "outputs": [],
   "source": [
    "loader = DataLoader(dataset, batch_size=16, shuffle=False)"
   ]
  },
  {
   "cell_type": "code",
   "execution_count": null,
   "metadata": {},
   "outputs": [],
   "source": [
    "loss = PBELoss()"
   ]
  },
  {
   "cell_type": "code",
   "execution_count": null,
   "metadata": {},
   "outputs": [],
   "source": [
    "loss_sum = 0.0\n",
    "power_loss_sum = 0.0\n",
    "active_power_loss_sum = 0.0\n",
    "reactive_power_loss_sum = 0.0\n",
    "num_batches = 0\n",
    "\n",
    "# Loop through the batches\n",
    "for batch in tqdm(loader):\n",
    "    metric = loss(batch.y, batch.y, batch.edge_index, batch.edge_attr, batch.mask)\n",
    "\n",
    "    # Accumulate the metrics\n",
    "    loss_sum += metric[\"loss\"].item()\n",
    "    power_loss_sum += metric[\"Power power loss in p.u.\"]\n",
    "    active_power_loss_sum += metric[\"Active Power Loss in p.u.\"]\n",
    "    reactive_power_loss_sum += metric[\"Reactive Power Loss in p.u.\"]\n",
    "    num_batches += 1\n",
    "\n",
    "# Calculate the means\n",
    "mean_loss = loss_sum / num_batches\n",
    "mean_power_loss = power_loss_sum / num_batches\n",
    "mean_active_power_loss = active_power_loss_sum / num_batches\n",
    "mean_reactive_power_loss = reactive_power_loss_sum / num_batches"
   ]
  },
  {
   "cell_type": "code",
   "execution_count": null,
   "metadata": {},
   "outputs": [],
   "source": [
    "print(\"BaseMVA (MVA): \", node_normalizer.baseMVA.numpy())"
   ]
  },
  {
   "cell_type": "code",
   "execution_count": null,
   "metadata": {},
   "outputs": [],
   "source": [
    "print(f\"Mean Power Power Loss in MVA: {mean_power_loss * node_normalizer.baseMVA}\")\n",
    "print(\n",
    "    f\"Mean Active Power Loss in MW: {mean_active_power_loss * node_normalizer.baseMVA}\"\n",
    ")\n",
    "print(\n",
    "    f\"Mean Reactive Power Loss in MVar: {mean_reactive_power_loss * node_normalizer.baseMVA}\"\n",
    ")"
   ]
  }
 ],
 "metadata": {
  "kernelspec": {
   "display_name": "venv",
   "language": "python",
   "name": "python3"
  },
  "language_info": {
   "codemirror_mode": {
    "name": "ipython",
    "version": 3
   },
   "file_extension": ".py",
   "mimetype": "text/x-python",
   "name": "python",
   "nbconvert_exporter": "python",
   "pygments_lexer": "ipython3",
   "version": "3.12.6"
  }
 },
 "nbformat": 4,
 "nbformat_minor": 2
}
