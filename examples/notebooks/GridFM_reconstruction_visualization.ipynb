{
 "cells": [
  {
   "cell_type": "markdown",
   "metadata": {},
   "source": [
    "# GridFM Visualization tutorial"
   ]
  },
  {
   "cell_type": "code",
   "execution_count": null,
   "metadata": {},
   "outputs": [],
   "source": [
    "from gridFM.datasets.powergrid import GridDatasetMem\n",
    "from gridFM.datasets.data_normalization import BaseMVANormalizer\n",
    "from gridFM.utils.visualization import visualize_error, visualize_quantity_heatmap\n",
    "from gridFM.datasets.globals import PD, QD, PG, QG, VM, VA\n",
    "from gridFM.datasets.transforms import AddRandomMask\n",
    "\n",
    "# Standard open-source libraries\n",
    "import torch\n",
    "from torch_geometric.loader import DataLoader\n",
    "import matplotlib.pyplot as plt\n",
    "from tqdm import tqdm\n",
    "import random\n",
    "\n",
    "torch.manual_seed(0)\n",
    "random.seed(0)\n",
    "device = torch.device(\"cuda\" if torch.cuda.is_available() else \"cpu\")"
   ]
  },
  {
   "cell_type": "markdown",
   "metadata": {},
   "source": [
    "# Load and normalize the power grid dataset for grid case30 from IEEE"
   ]
  },
  {
   "cell_type": "code",
   "execution_count": null,
   "metadata": {},
   "outputs": [],
   "source": [
    "# This network was chosen for visualization purposes (networks up to 300 buses were tested)\n",
    "# The number of load scenarios is 1024\n",
    "network = \"../data/case30_ieee\"\n",
    "node_normalizer, edge_normalizer = (\n",
    "    BaseMVANormalizer(node_data=True),\n",
    "    BaseMVANormalizer(node_data=False),\n",
    ")\n",
    "dataset = GridDatasetMem(\n",
    "    root=network,\n",
    "    norm_method=\"baseMVAnorm\",\n",
    "    node_normalizer=node_normalizer,\n",
    "    edge_normalizer=edge_normalizer,\n",
    "    pe_dim=20,\n",
    "    transform=AddRandomMask(mask_dim=6, mask_ratio=0.5),\n",
    ")"
   ]
  },
  {
   "cell_type": "markdown",
   "metadata": {},
   "source": [
    "# Create a Pytorch Dataloader"
   ]
  },
  {
   "cell_type": "code",
   "execution_count": null,
   "metadata": {},
   "outputs": [],
   "source": [
    "# The scenarios are grouped in batches\n",
    "loader = DataLoader(dataset, batch_size=32)"
   ]
  },
  {
   "cell_type": "markdown",
   "metadata": {},
   "source": [
    "# Load gridFM-v0.2"
   ]
  },
  {
   "cell_type": "code",
   "execution_count": null,
   "metadata": {},
   "outputs": [],
   "source": [
    "model = torch.load(\n",
    "    \"../models/GridFM_v0_2_3.pth\", weights_only=False, map_location=device\n",
    ").to(device)"
   ]
  },
  {
   "cell_type": "markdown",
   "metadata": {},
   "source": [
    "# State reconstruction of 1024 scenarios (6 features)"
   ]
  },
  {
   "cell_type": "code",
   "execution_count": null,
   "metadata": {},
   "outputs": [],
   "source": [
    "model.eval()\n",
    "with torch.no_grad():\n",
    "    for batch in tqdm(loader):\n",
    "        batch = batch.to(device)\n",
    "\n",
    "        # Apply random masking\n",
    "        mask_value_expanded = model.mask_value.expand(batch.x.shape[0], -1)\n",
    "        batch.x[:, : batch.mask.shape[1]][batch.mask] = mask_value_expanded[batch.mask]\n",
    "\n",
    "        # Perform inference\n",
    "        output = model(\n",
    "            batch.x, batch.pe, batch.edge_index, batch.edge_attr, batch.batch\n",
    "        )"
   ]
  },
  {
   "cell_type": "markdown",
   "metadata": {},
   "source": [
    "# Visualize Nodal Active Power Residuals for one load scenario"
   ]
  },
  {
   "cell_type": "code",
   "execution_count": null,
   "metadata": {},
   "outputs": [],
   "source": [
    "# select one random sample from the dataset\n",
    "data_point = dataset[random.randint(0, len(dataset) - 1)]\n",
    "\n",
    "visualize_error(data_point, model, baseMVA=node_normalizer.baseMVA, device=device)"
   ]
  },
  {
   "cell_type": "markdown",
   "metadata": {},
   "source": [
    "# Visualize the state reconstruction capability of gridFM-v0.2 for each feature:\n",
    "- Active Power Demand (MW)\n",
    "- Reactive Power Demand (MVar)\n",
    "- Active Power Generated (MW)\n",
    "- Reactive Power Generated (MVar)\n",
    "- Voltage Magnitude (p.u.)\n",
    "- Voltage Angle (degrees)\n"
   ]
  },
  {
   "cell_type": "code",
   "execution_count": null,
   "metadata": {},
   "outputs": [],
   "source": [
    "# Active Power Demand reconstruction\n",
    "visualize_quantity_heatmap(\n",
    "    data_point,\n",
    "    model,\n",
    "    PD,\n",
    "    \"Active Power Demand\",\n",
    "    \"MW\",\n",
    "    node_normalizer,\n",
    "    plt.cm.viridis,\n",
    "    device=device,\n",
    ")"
   ]
  },
  {
   "cell_type": "code",
   "execution_count": null,
   "metadata": {},
   "outputs": [],
   "source": [
    "# Reactive Power Demand reconstruction\n",
    "visualize_quantity_heatmap(\n",
    "    data_point,\n",
    "    model,\n",
    "    QD,\n",
    "    \"Reactive Power Demand\",\n",
    "    \"MVar\",\n",
    "    node_normalizer,\n",
    "    plt.cm.plasma,\n",
    "    device=device,\n",
    ")"
   ]
  },
  {
   "cell_type": "code",
   "execution_count": null,
   "metadata": {},
   "outputs": [],
   "source": [
    "# Active Power Generated reconstruction\n",
    "visualize_quantity_heatmap(\n",
    "    data_point,\n",
    "    model,\n",
    "    PG,\n",
    "    \"Active Power Generated\",\n",
    "    \"MW\",\n",
    "    node_normalizer,\n",
    "    plt.cm.viridis,\n",
    "    device=device,\n",
    ")"
   ]
  },
  {
   "cell_type": "code",
   "execution_count": null,
   "metadata": {},
   "outputs": [],
   "source": [
    "# Reactive Power Generated reconstruction\n",
    "visualize_quantity_heatmap(\n",
    "    data_point,\n",
    "    model,\n",
    "    QG,\n",
    "    \"Reactive Power Generated\",\n",
    "    \"MVar\",\n",
    "    node_normalizer,\n",
    "    plt.cm.plasma,\n",
    "    device=device,\n",
    ")"
   ]
  },
  {
   "cell_type": "code",
   "execution_count": null,
   "metadata": {},
   "outputs": [],
   "source": [
    "# Voltage magnitude reconstruction\n",
    "visualize_quantity_heatmap(\n",
    "    data_point,\n",
    "    model,\n",
    "    VM,\n",
    "    \"Voltage Magnitude\",\n",
    "    \"p.u.\",\n",
    "    node_normalizer,\n",
    "    plt.cm.magma,\n",
    "    device=device,\n",
    ")"
   ]
  },
  {
   "cell_type": "code",
   "execution_count": null,
   "metadata": {},
   "outputs": [],
   "source": [
    "# Voltage angle reconstruction\n",
    "visualize_quantity_heatmap(\n",
    "    data_point,\n",
    "    model,\n",
    "    VA,\n",
    "    \"Voltage Angle\",\n",
    "    \"degrees\",\n",
    "    node_normalizer,\n",
    "    plt.cm.inferno,\n",
    "    device=device,\n",
    ")"
   ]
  }
 ],
 "metadata": {
  "kernelspec": {
   "display_name": "venv",
   "language": "python",
   "name": "python3"
  },
  "language_info": {
   "codemirror_mode": {
    "name": "ipython",
    "version": 3
   },
   "file_extension": ".py",
   "mimetype": "text/x-python",
   "name": "python",
   "nbconvert_exporter": "python",
   "pygments_lexer": "ipython3",
   "version": "3.12.10"
  }
 },
 "nbformat": 4,
 "nbformat_minor": 2
}
